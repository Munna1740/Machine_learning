{
  "nbformat": 4,
  "nbformat_minor": 0,
  "metadata": {
    "colab": {
      "name": "Copy of colabPractice2.ipynb",
      "provenance": [],
      "authorship_tag": "ABX9TyM70rAEK+HCs1mN/h7ealBG",
      "include_colab_link": true
    },
    "kernelspec": {
      "name": "python3",
      "display_name": "Python 3"
    }
  },
  "cells": [
    {
      "cell_type": "markdown",
      "metadata": {
        "id": "view-in-github",
        "colab_type": "text"
      },
      "source": [
        "<a href=\"https://colab.research.google.com/github/Munna1740/Machine_learning/blob/master/Copy_of_colabPractice2.ipynb\" target=\"_parent\"><img src=\"https://colab.research.google.com/assets/colab-badge.svg\" alt=\"Open In Colab\"/></a>"
      ]
    },
    {
      "cell_type": "code",
      "metadata": {
        "id": "odXv1W63FvA4",
        "colab_type": "code",
        "outputId": "96603907-9a7f-458f-f64a-1c1fe32c08c7",
        "colab": {
          "base_uri": "https://localhost:8080/",
          "height": 34
        }
      },
      "source": [
        "print(\"hello...save file from colab to github...and it successfull...Yeh\")"
      ],
      "execution_count": 0,
      "outputs": [
        {
          "output_type": "stream",
          "text": [
            "hello...save file from colab to github...and it successfull...Yeh\n"
          ],
          "name": "stdout"
        }
      ]
    }
  ]
}